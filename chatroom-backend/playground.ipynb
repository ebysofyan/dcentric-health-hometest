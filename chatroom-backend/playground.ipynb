{
 "cells": [
  {
   "cell_type": "code",
   "execution_count": 1,
   "metadata": {},
   "outputs": [],
   "source": [
    "import sys\n",
    "import os\n",
    "import uuid\n",
    "\n",
    "current: str = os.getcwd()\n",
    "sys.path.append(os.path.join(current, \"src\"))"
   ]
  },
  {
   "cell_type": "code",
   "execution_count": 2,
   "metadata": {},
   "outputs": [
    {
     "name": "stdout",
     "output_type": "stream",
     "text": [
      "gAAAAABkjSHAzUeYJqdZeyGNxbHaY4lm2NQd_At5wHDpX6ijxvfjNBoHsx7HZduOh3RtELqQsJcjownzlAay2v4ZB5ov2uMOEw== hello World\n"
     ]
    }
   ],
   "source": [
    "from utils.chiper_utils import ChiperUtils\n",
    "some_key = uuid.uuid4().hex\n",
    "\n",
    "chiper_utils = ChiperUtils(\n",
    "    enc_key=some_key\n",
    ")\n",
    "msg = \"hello World\"\n",
    "token: str = chiper_utils.encrypt(msg)\n",
    "plain = chiper_utils.decrypt(token)\n",
    "print(token, plain)"
   ]
  },
  {
   "cell_type": "code",
   "execution_count": null,
   "metadata": {},
   "outputs": [],
   "source": []
  }
 ],
 "metadata": {
  "kernelspec": {
   "display_name": ".venv",
   "language": "python",
   "name": "python3"
  },
  "language_info": {
   "codemirror_mode": {
    "name": "ipython",
    "version": 3
   },
   "file_extension": ".py",
   "mimetype": "text/x-python",
   "name": "python",
   "nbconvert_exporter": "python",
   "pygments_lexer": "ipython3",
   "version": "3.11.4"
  },
  "orig_nbformat": 4
 },
 "nbformat": 4,
 "nbformat_minor": 2
}
