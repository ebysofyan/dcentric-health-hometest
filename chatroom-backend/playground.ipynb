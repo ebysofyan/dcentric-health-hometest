{
 "cells": [
  {
   "cell_type": "code",
   "execution_count": 2,
   "metadata": {},
   "outputs": [],
   "source": [
    "import sys\n",
    "import os\n",
    "\n",
    "current: str = os.getcwd()\n",
    "sys.path.append(os.path.join(current, \"src\"))"
   ]
  },
  {
   "cell_type": "code",
   "execution_count": null,
   "metadata": {},
   "outputs": [],
   "source": [
    "import base64\n",
    "from cryptography.fernet import Fernet\n",
    "from cryptography.hazmat.primitives import hashes\n",
    "from cryptography.hazmat.primitives.kdf.pbkdf2 import PBKDF2HMAC\n",
    "password = b\"password\"\n",
    "salt = b\"somesalt\"\n",
    "kdf = PBKDF2HMAC(\n",
    "    algorithm=hashes.SHA256(),\n",
    "    length=32,\n",
    "    salt=salt,\n",
    "    iterations=480000,\n",
    ")\n",
    "key = base64.urlsafe_b64encode(kdf.derive(password))\n",
    "f = Fernet(key)\n",
    "token = f.encrypt(b\"Hello, this is me. How are you today? \\nHow can i help you?\")\n",
    "plain = f.decrypt(token)\n",
    "print(token, plain)"
   ]
  },
  {
   "cell_type": "code",
   "execution_count": 4,
   "metadata": {},
   "outputs": [
    {
     "name": "stdout",
     "output_type": "stream",
     "text": [
      "gAAAAABki6QHGVS7IkDEm27vhkiQ9aLg1yuyLWHThfBKj1EKOKWTQJg8ZD4KyzXTMQ_Fx2ACu-vX0QFsMd7aQScUvVSolA_8Vg== hello World\n"
     ]
    }
   ],
   "source": [
    "from utils.chiper_utils import ChiperUtils\n",
    "from cryptography.hazmat.primitives import hashes\n",
    "\n",
    "chiper_utils = ChiperUtils(\n",
    "    alghoritm=hashes.SHA256(),\n",
    "    enc_key=\"Somekey\"\n",
    ")\n",
    "msg = \"hello World\"\n",
    "token: str = chiper_utils.encrypt(msg)\n",
    "plain = chiper_utils.decrypt(token)\n",
    "print(token, plain)"
   ]
  },
  {
   "cell_type": "code",
   "execution_count": null,
   "metadata": {},
   "outputs": [],
   "source": []
  }
 ],
 "metadata": {
  "kernelspec": {
   "display_name": ".venv",
   "language": "python",
   "name": "python3"
  },
  "language_info": {
   "codemirror_mode": {
    "name": "ipython",
    "version": 3
   },
   "file_extension": ".py",
   "mimetype": "text/x-python",
   "name": "python",
   "nbconvert_exporter": "python",
   "pygments_lexer": "ipython3",
   "version": "3.11.4"
  },
  "orig_nbformat": 4
 },
 "nbformat": 4,
 "nbformat_minor": 2
}
